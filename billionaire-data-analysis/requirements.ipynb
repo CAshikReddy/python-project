{
 "cells": [
  {
   "cell_type": "markdown",
   "id": "89264907-80c5-4eb3-87b4-f4712894a21e",
   "metadata": {},
   "source": [
    "Install the following package"
   ]
  },
  {
   "cell_type": "code",
   "execution_count": null,
   "id": "98505f80-d4a1-4b09-8437-20264ed6d547",
   "metadata": {},
   "outputs": [],
   "source": [
    "pip install pandas"
   ]
  },
  {
   "cell_type": "code",
   "execution_count": null,
   "id": "8d7506a5-4429-4927-8752-d6f58aa6801c",
   "metadata": {},
   "outputs": [],
   "source": [
    "pip install sklearn"
   ]
  },
  {
   "cell_type": "code",
   "execution_count": null,
   "id": "0e850121-6a11-4e6f-b603-cd674a0b1308",
   "metadata": {},
   "outputs": [],
   "source": [
    "pip install scikit-learn"
   ]
  },
  {
   "cell_type": "code",
   "execution_count": null,
   "id": "c53ab1c5-bf45-443d-bd91-d799cc47a4f9",
   "metadata": {},
   "outputs": [],
   "source": [
    "pip install matplotlib"
   ]
  },
  {
   "cell_type": "code",
   "execution_count": null,
   "id": "375ccb22-fe25-4019-823c-49aeaedae2d6",
   "metadata": {},
   "outputs": [],
   "source": [
    "pip install seaborn"
   ]
  },
  {
   "cell_type": "code",
   "execution_count": null,
   "id": "09a73341-c4e1-466f-b836-da226d2775c3",
   "metadata": {},
   "outputs": [],
   "source": [
    "pip install geopandas"
   ]
  },
  {
   "cell_type": "code",
   "execution_count": null,
   "id": "ba5dae67-44a2-4f31-a862-a64f917940c5",
   "metadata": {},
   "outputs": [],
   "source": [
    "pip install plotly"
   ]
  }
 ],
 "metadata": {
  "kernelspec": {
   "display_name": "Python 3 (ipykernel)",
   "language": "python",
   "name": "python3"
  },
  "language_info": {
   "codemirror_mode": {
    "name": "ipython",
    "version": 3
   },
   "file_extension": ".py",
   "mimetype": "text/x-python",
   "name": "python",
   "nbconvert_exporter": "python",
   "pygments_lexer": "ipython3",
   "version": "3.12.0"
  }
 },
 "nbformat": 4,
 "nbformat_minor": 5
}
